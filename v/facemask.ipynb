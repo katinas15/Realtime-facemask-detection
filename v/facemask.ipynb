{
 "cells": [
  {
   "cell_type": "code",
   "execution_count": 1,
   "source": [
    "import tensorflow as tf\r\n",
    "from tensorflow.keras.preprocessing import image_dataset_from_directory\r\n",
    "from tensorflow import keras\r\n",
    "from tensorflow.keras.preprocessing.image import ImageDataGenerator\r\n",
    "from tensorflow.keras.applications import MobileNetV2\r\n",
    "from tensorflow.keras.layers import AveragePooling2D\r\n",
    "from tensorflow.keras import layers\r\n",
    "from tensorflow.keras.layers import Dropout\r\n",
    "from tensorflow.keras.layers import Flatten\r\n",
    "from tensorflow.keras.layers import Dense\r\n",
    "from tensorflow.keras.layers import Input\r\n",
    "from tensorflow.keras.models import Model\r\n",
    "from tensorflow.keras.optimizers import Adam\r\n",
    "from tensorflow.keras.applications.mobilenet_v2 import preprocess_input\r\n",
    "from tensorflow.keras.preprocessing.image import img_to_array\r\n",
    "from tensorflow.keras.preprocessing.image import load_img\r\n",
    "from tensorflow.keras.utils import to_categorical\r\n",
    "from sklearn.preprocessing import LabelBinarizer\r\n",
    "from sklearn.model_selection import train_test_split\r\n",
    "from sklearn.metrics import classification_report\r\n",
    "from imutils import paths\r\n",
    "import pandas as pd\r\n",
    "import matplotlib.pyplot as plt\r\n",
    "import numpy as np\r\n",
    "import argparse\r\n",
    "import os\r\n",
    "\r\n",
    "batch_size = 40\r\n",
    "epochs = 15\r\n",
    "EPOCHS = epochs\r\n",
    "img_height = 224\r\n",
    "img_width = 224"
   ],
   "outputs": [],
   "metadata": {}
  },
  {
   "cell_type": "code",
   "execution_count": 2,
   "source": [
    "DIRECTORY = \"./dataset\"\r\n",
    "CATEGORIES = [\"su_kauke\", \"be_kaukes\"]\r\n",
    "\r\n",
    "data = []\r\n",
    "labels = []\r\n",
    "\r\n",
    "for category in CATEGORIES:\r\n",
    "    path = os.path.join(DIRECTORY, category)\r\n",
    "    for img in os.listdir(path):\r\n",
    "    \timg_path = os.path.join(path, img)\r\n",
    "    \timage = load_img(img_path, target_size=(224, 224))\r\n",
    "    \timage = img_to_array(image)\r\n",
    "    \timage = preprocess_input(image)\r\n",
    "\r\n",
    "    \tdata.append(image)\r\n",
    "    \tlabels.append(category)\r\n",
    "\r\n",
    "lb = LabelBinarizer()\r\n",
    "labels = lb.fit_transform(labels)\r\n",
    "labels = to_categorical(labels)\r\n",
    "\r\n",
    "data = np.array(data, dtype=\"float32\")\r\n",
    "labels = np.array(labels)\r\n",
    "\r\n",
    "(trainX, testX, trainY, testY) = train_test_split(data, labels,\r\n",
    "\ttest_size=0.20, stratify=labels, random_state=42)"
   ],
   "outputs": [],
   "metadata": {}
  },
  {
   "cell_type": "code",
   "execution_count": 3,
   "source": [
    "# class_names = ds_train.class_names\r\n",
    "\r\n",
    "baseModel = MobileNetV2(weights=\"imagenet\", include_top=False,\r\n",
    "\tinput_tensor=Input(shape=(224,224,3)))\r\n",
    "\r\n",
    "for layer in baseModel.layers:\r\n",
    "\tlayer.trainable = False\r\n",
    "    \r\n",
    "model = keras.Sequential([\r\n",
    "    baseModel,\r\n",
    "    layers.AveragePooling2D(pool_size=(7, 7)),\r\n",
    "    layers.Flatten(),\r\n",
    "    layers.Dense(128, activation='relu'),\r\n",
    "    layers.Dropout(0.5),\r\n",
    "    layers.Flatten(),\r\n",
    "    layers.Dense(2, activation='sigmoid'),\r\n",
    "])\r\n",
    "\r\n",
    "\r\n",
    "model.compile(\r\n",
    "    optimizer='adam',\r\n",
    "    loss='binary_crossentropy',\r\n",
    "    metrics=['binary_accuracy'],\r\n",
    ")"
   ],
   "outputs": [
    {
     "output_type": "stream",
     "name": "stdout",
     "text": [
      "WARNING:tensorflow:`input_shape` is undefined or non-square, or `rows` is not in [96, 128, 160, 192, 224]. Weights for input shape (224, 224) will be loaded as the default.\n"
     ]
    }
   ],
   "metadata": {}
  },
  {
   "cell_type": "code",
   "execution_count": 4,
   "source": [
    "from tensorflow.keras.callbacks import TensorBoard, ModelCheckpoint\r\n",
    "\r\n",
    "history = model.fit(\r\n",
    "    trainX, trainY,\r\n",
    "    validation_data=(testX, testY),\r\n",
    "    batch_size=batch_size,\r\n",
    "    epochs=10,\r\n",
    ")\r\n",
    "\r\n",
    "model.save(\"./model.h5\", save_format=\"h5\")"
   ],
   "outputs": [
    {
     "output_type": "stream",
     "name": "stdout",
     "text": [
      "Epoch 1/10\n",
      "28/28 [==============================] - 11s 96ms/step - loss: 0.1628 - binary_accuracy: 0.9355 - val_loss: 0.0342 - val_binary_accuracy: 0.9855\n",
      "Epoch 2/10\n",
      "28/28 [==============================] - 1s 42ms/step - loss: 0.0181 - binary_accuracy: 0.9918 - val_loss: 0.0259 - val_binary_accuracy: 0.9873\n",
      "Epoch 3/10\n",
      "28/28 [==============================] - 1s 41ms/step - loss: 0.0154 - binary_accuracy: 0.9936 - val_loss: 0.0136 - val_binary_accuracy: 0.9964\n",
      "Epoch 4/10\n",
      "28/28 [==============================] - 1s 42ms/step - loss: 0.0071 - binary_accuracy: 0.9982 - val_loss: 0.0142 - val_binary_accuracy: 0.9964\n",
      "Epoch 5/10\n",
      "28/28 [==============================] - 1s 40ms/step - loss: 0.0036 - binary_accuracy: 1.0000 - val_loss: 0.0144 - val_binary_accuracy: 0.9964\n",
      "Epoch 6/10\n",
      "28/28 [==============================] - 1s 38ms/step - loss: 0.0022 - binary_accuracy: 1.0000 - val_loss: 0.0139 - val_binary_accuracy: 0.9964\n",
      "Epoch 7/10\n",
      "28/28 [==============================] - 1s 39ms/step - loss: 0.0029 - binary_accuracy: 0.9995 - val_loss: 0.0150 - val_binary_accuracy: 0.9964\n",
      "Epoch 8/10\n",
      "28/28 [==============================] - 1s 40ms/step - loss: 0.0014 - binary_accuracy: 1.0000 - val_loss: 0.0137 - val_binary_accuracy: 0.9964\n",
      "Epoch 9/10\n",
      "28/28 [==============================] - 1s 40ms/step - loss: 0.0016 - binary_accuracy: 0.9995 - val_loss: 0.0140 - val_binary_accuracy: 0.9964\n",
      "Epoch 10/10\n",
      "28/28 [==============================] - 1s 38ms/step - loss: 0.0016 - binary_accuracy: 0.9995 - val_loss: 0.0127 - val_binary_accuracy: 0.9964\n"
     ]
    },
    {
     "output_type": "stream",
     "name": "stderr",
     "text": [
      "C:\\Users\\laimo\\anaconda3\\envs\\tf\\lib\\site-packages\\tensorflow\\python\\keras\\utils\\generic_utils.py:494: CustomMaskWarning: Custom mask layers require a config and must override get_config. When loading, the custom mask layer must be passed to the custom_objects argument.\n",
      "  warnings.warn('Custom mask layers require a config and must override '\n"
     ]
    }
   ],
   "metadata": {}
  },
  {
   "cell_type": "code",
   "execution_count": 5,
   "source": [
    "import matplotlib.pyplot as plt\r\n",
    "plt.style.use('seaborn-whitegrid')\r\n",
    "# Set Matplotlib defaults\r\n",
    "plt.rc('figure', autolayout=True)\r\n",
    "plt.rc('axes', labelweight='bold', labelsize='large',\r\n",
    "       titleweight='bold', titlesize=18, titlepad=10)\r\n",
    "plt.rc('animation', html='html5')\r\n",
    "\r\n",
    "history_df = pd.DataFrame(history.history)\r\n",
    "history_df.loc[:, ['loss', 'val_loss']].plot()\r\n",
    "print(\"Minimum Validation Loss: {:0.4f}\".format(history_df['val_loss'].min()))"
   ],
   "outputs": [
    {
     "output_type": "stream",
     "name": "stdout",
     "text": [
      "Minimum Validation Loss: 0.0127\n"
     ]
    },
    {
     "output_type": "display_data",
     "data": {
      "text/plain": [
       "<Figure size 432x288 with 1 Axes>"
      ],
      "image/png": "[encoded data removed]"
     },
     "metadata": {}
    }
   ],
   "metadata": {}
  }
 ],
 "metadata": {
  "orig_nbformat": 4,
  "language_info": {
   "name": "python",
   "version": "3.9.7",
   "mimetype": "text/x-python",
   "codemirror_mode": {
    "name": "ipython",
    "version": 3
   },
   "pygments_lexer": "ipython3",
   "nbconvert_exporter": "python",
   "file_extension": ".py"
  },
  "kernelspec": {
   "name": "python3",
   "display_name": "Python 3.9.7 64-bit ('tf': conda)"
  },
  "interpreter": {
   "hash": "f25a34d828536eaea94bc98fa02bf2fcbf5af5b65bea44899cc5ad2220dc98c9"
  }
 },
 "nbformat": 4,
 "nbformat_minor": 2
}